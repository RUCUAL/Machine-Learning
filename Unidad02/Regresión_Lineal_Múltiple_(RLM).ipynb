{
  "nbformat": 4,
  "nbformat_minor": 0,
  "metadata": {
    "colab": {
      "provenance": [],
      "authorship_tag": "ABX9TyMwRvuzBQ7T1tVisCDHtjse",
      "include_colab_link": true
    },
    "kernelspec": {
      "name": "python3",
      "display_name": "Python 3"
    },
    "language_info": {
      "name": "python"
    }
  },
  "cells": [
    {
      "cell_type": "markdown",
      "metadata": {
        "id": "view-in-github",
        "colab_type": "text"
      },
      "source": [
        "<a href=\"https://colab.research.google.com/github/RUCUAL/Machine-Learning/blob/main/Unidad02/Regresi%C3%B3n_Lineal_M%C3%BAltiple_(RLM).ipynb\" target=\"_parent\"><img src=\"https://colab.research.google.com/assets/colab-badge.svg\" alt=\"Open In Colab\"/></a>"
      ]
    },
    {
      "cell_type": "markdown",
      "source": [
        "#Regresión Lineal Múltiple (RLM)\n",
        "La RLM servirá como modelo base (baseline) y como herramienta de interpretación."
      ],
      "metadata": {
        "id": "ehz3usg5mjnu"
      }
    },
    {
      "cell_type": "markdown",
      "source": [
        "**CARGAR LIBRERIRAS Y DATOS**"
      ],
      "metadata": {
        "id": "FLPGYYUNpNyR"
      }
    },
    {
      "cell_type": "markdown",
      "source": [
        "**librerías necesarias**"
      ],
      "metadata": {
        "id": "aF-d4O9Zmx2i"
      }
    },
    {
      "cell_type": "code",
      "source": [
        "import pandas as pd\n",
        "import numpy as np\n",
        "from sklearn.model_selection import train_test_split\n",
        "from sklearn.linear_model import LinearRegression\n",
        "from sklearn.metrics import r2_score\n",
        "import matplotlib.pyplot as plt\n",
        "import seaborn as sns\n",
        "\n",
        "# Configuración para mostrar todas las columnas\n",
        "pd.set_option('display.max_columns', None)"
      ],
      "metadata": {
        "id": "jI6-n5Jkm5dT"
      },
      "execution_count": 1,
      "outputs": []
    },
    {
      "cell_type": "markdown",
      "source": [
        "**Cargar el dataset**"
      ],
      "metadata": {
        "id": "JG1xebdKnGUP"
      }
    },
    {
      "cell_type": "code",
      "source": [
        "file_name = 'DATASET_Asesinatos.csv'\n",
        "try:\n",
        "    df = pd.read_csv(file_name, encoding='latin-1')\n",
        "    print(f\"Dataset '{file_name}' cargado exitosamente.\")\n",
        "except FileNotFoundError:\n",
        "    print(f\"ERROR: No se encontró el archivo '{file_name}'. Asegúrate de subirlo a Colab.\")"
      ],
      "metadata": {
        "colab": {
          "base_uri": "https://localhost:8080/"
        },
        "id": "gf97BzX3nJSB",
        "outputId": "f3c960bd-1400-43ba-c9e5-adde1205b0d8"
      },
      "execution_count": 3,
      "outputs": [
        {
          "output_type": "stream",
          "name": "stdout",
          "text": [
            "Dataset 'DATASET_Asesinatos.csv' cargado exitosamente.\n"
          ]
        }
      ]
    },
    {
      "cell_type": "markdown",
      "source": [
        "**Inspección Inicial**"
      ],
      "metadata": {
        "id": "yeuj96bXnksK"
      }
    },
    {
      "cell_type": "code",
      "source": [
        "print(\"\\n--- Inspección de Datos ---\")\n",
        "print(f\"Dimensiones del Dataset (filas, columnas): {df.shape}\")\n",
        "print(\"\\nPrimeras 5 filas:\")\n",
        "print(df.head())\n",
        "print(\"\\nInformación de tipos de datos y valores nulos:\")\n",
        "df.info()"
      ],
      "metadata": {
        "colab": {
          "base_uri": "https://localhost:8080/"
        },
        "id": "YC-Y6tuznolu",
        "outputId": "d1d138ff-6ee3-44aa-9a2c-9d0e9a66c1d4"
      },
      "execution_count": 4,
      "outputs": [
        {
          "output_type": "stream",
          "name": "stdout",
          "text": [
            "\n",
            "--- Inspección de Datos ---\n",
            "Dimensiones del Dataset (filas, columnas): (3000, 16)\n",
            "\n",
            "Primeras 5 filas:\n",
            "                Estado  id_area  habitantes  area_km2  ingresos_medios  \\\n",
            "0               Puebla        1      207953     26.70            48018   \n",
            "1              Durango        2       80226     17.39            50295   \n",
            "2              Tabasco        3      260806     70.69            50795   \n",
            "3  Baja California Sur        4      969508    830.49            68910   \n",
            "4       Aguascalientes        5       69478     30.59            54248   \n",
            "\n",
            "   edad_media_poblacion  densidad_poblacional  indice_gini  \\\n",
            "0                  40.8               7787.47        0.522   \n",
            "1                  42.4               4612.66        0.346   \n",
            "2                  39.5               3689.22        0.417   \n",
            "3                  27.3               1167.39        0.399   \n",
            "4                  36.2               2271.26        0.422   \n",
            "\n",
            "   tasa_desempleo_juvenil  porcentaje_sin_diploma_secundaria  \\\n",
            "0                    21.8                               30.3   \n",
            "1                    19.2                               18.9   \n",
            "2                    23.0                               33.5   \n",
            "3                    28.8                               17.7   \n",
            "4                    16.4                               33.6   \n",
            "\n",
            "   porcentaje_hogares_monoparentales  gasto_policial_per_capita  \\\n",
            "0                               40.0                        867   \n",
            "1                               23.5                        706   \n",
            "2                               23.8                        981   \n",
            "3                               23.5                        951   \n",
            "4                               27.6                        563   \n",
            "\n",
            "   inversion_programas_sociales_per_capita  tiempo_respuesta_emergencias_min  \\\n",
            "0                                      240                               3.0   \n",
            "1                                      458                               3.0   \n",
            "2                                      403                               4.3   \n",
            "3                                      326                               7.5   \n",
            "4                                      353                               7.2   \n",
            "\n",
            "   porcentaje_zonas_verdes  tasa_asesinatos_por_100mil  \n",
            "0                      5.0                        27.1  \n",
            "1                     11.1                        13.6  \n",
            "2                      8.1                        20.6  \n",
            "3                     16.1                        18.5  \n",
            "4                     10.6                        16.8  \n",
            "\n",
            "Información de tipos de datos y valores nulos:\n",
            "<class 'pandas.core.frame.DataFrame'>\n",
            "RangeIndex: 3000 entries, 0 to 2999\n",
            "Data columns (total 16 columns):\n",
            " #   Column                                   Non-Null Count  Dtype  \n",
            "---  ------                                   --------------  -----  \n",
            " 0   Estado                                   3000 non-null   object \n",
            " 1   id_area                                  3000 non-null   int64  \n",
            " 2   habitantes                               3000 non-null   int64  \n",
            " 3   area_km2                                 3000 non-null   float64\n",
            " 4   ingresos_medios                          3000 non-null   int64  \n",
            " 5   edad_media_poblacion                     3000 non-null   float64\n",
            " 6   densidad_poblacional                     3000 non-null   float64\n",
            " 7   indice_gini                              3000 non-null   float64\n",
            " 8   tasa_desempleo_juvenil                   3000 non-null   float64\n",
            " 9   porcentaje_sin_diploma_secundaria        3000 non-null   float64\n",
            " 10  porcentaje_hogares_monoparentales        3000 non-null   float64\n",
            " 11  gasto_policial_per_capita                3000 non-null   int64  \n",
            " 12  inversion_programas_sociales_per_capita  3000 non-null   int64  \n",
            " 13  tiempo_respuesta_emergencias_min         3000 non-null   float64\n",
            " 14  porcentaje_zonas_verdes                  3000 non-null   float64\n",
            " 15  tasa_asesinatos_por_100mil               3000 non-null   float64\n",
            "dtypes: float64(10), int64(5), object(1)\n",
            "memory usage: 375.1+ KB\n"
          ]
        }
      ]
    },
    {
      "cell_type": "markdown",
      "source": [
        "**Verificación de Variables Clave**"
      ],
      "metadata": {
        "id": "VuhW_3fFn4yS"
      }
    },
    {
      "cell_type": "code",
      "source": [
        "target_variable = 'tasa_asesinatos_por_100mil'\n",
        "initial_predictors = [\n",
        "    'indice_gini',\n",
        "    'tasa_desempleo_juvenil',\n",
        "    'porcentaje_sin_diploma_secundaria',\n",
        "    'ingresos_medios',\n",
        "    'densidad_poblacional',\n",
        "    'gasto_policial_per_capita',\n",
        "    'inversion_programas_sociales_per_capita'\n",
        "]\n",
        "\n",
        "missing_cols = [col for col in [target_variable] + initial_predictors if col not in df.columns]\n",
        "\n",
        "if missing_cols:\n",
        "    print(f\"\\n ERROR: Faltan las siguientes columnas requeridas: {missing_cols}\")\n",
        "else:\n",
        "    print(\"\\n Todas las variables objetivo y predictoras iniciales están presentes.\")"
      ],
      "metadata": {
        "colab": {
          "base_uri": "https://localhost:8080/"
        },
        "id": "bgHxClaSoAh9",
        "outputId": "08379d50-8b64-4e9c-a897-1d9393e2b4af"
      },
      "execution_count": 5,
      "outputs": [
        {
          "output_type": "stream",
          "name": "stdout",
          "text": [
            "\n",
            " Todas las variables objetivo y predictoras iniciales están presentes.\n"
          ]
        }
      ]
    },
    {
      "cell_type": "markdown",
      "source": [
        "**Preparación para el modelado: Manejo de Nulos (si los hay)**"
      ],
      "metadata": {
        "id": "g9vMR2UpoZlD"
      }
    },
    {
      "cell_type": "code",
      "source": [
        "rows_before = df.shape[0]\n",
        "df.dropna(subset=[target_variable] + initial_predictors, inplace=True)\n",
        "rows_after = df.shape[0]\n",
        "\n",
        "if rows_before > rows_after:\n",
        "    print(f\"\\nSe eliminaron {rows_before - rows_after} filas con valores nulos para las variables clave.\")\n",
        "else:\n",
        "    print(\"\\nNo se encontraron valores nulos en las variables clave.\")"
      ],
      "metadata": {
        "colab": {
          "base_uri": "https://localhost:8080/"
        },
        "id": "q3p4MmHzokNr",
        "outputId": "83ed6e32-1c5f-4af7-cb1f-5762e0e8986e"
      },
      "execution_count": 6,
      "outputs": [
        {
          "output_type": "stream",
          "name": "stdout",
          "text": [
            "\n",
            "No se encontraron valores nulos en las variables clave.\n"
          ]
        }
      ]
    },
    {
      "cell_type": "markdown",
      "source": [
        "**Calcular la correlación de Pearson con la variable objetivo**"
      ],
      "metadata": {
        "id": "VdJ0Eq4Fot-i"
      }
    },
    {
      "cell_type": "code",
      "source": [
        "target_variable = 'tasa_asesinatos_por_100mil'\n",
        "initial_predictors = [\n",
        "    'indice_gini',\n",
        "    'tasa_desempleo_juvenil',\n",
        "    'porcentaje_sin_diploma_secundaria',\n",
        "    'ingresos_medios',\n",
        "    'densidad_poblacional',\n",
        "    'gasto_policial_per_capita',\n",
        "    'inversion_programas_sociales_per_capita'\n",
        "]\n",
        "\n",
        "correlation_matrix = df[[target_variable] + initial_predictors].corr()\n",
        "target_correlations = correlation_matrix[target_variable].drop(target_variable).sort_values(ascending=False)\n",
        "\n",
        "print(\"\\n--- Correlación de Pearson con 'tasa_asesinatos_por_100mil' ---\")\n",
        "print(target_correlations)"
      ],
      "metadata": {
        "colab": {
          "base_uri": "https://localhost:8080/"
        },
        "id": "_JMxMwZ4owMO",
        "outputId": "88eb1c16-e360-4395-9e0b-0110d5308d2a"
      },
      "execution_count": 7,
      "outputs": [
        {
          "output_type": "stream",
          "name": "stdout",
          "text": [
            "\n",
            "--- Correlación de Pearson con 'tasa_asesinatos_por_100mil' ---\n",
            "indice_gini                                0.550872\n",
            "porcentaje_sin_diploma_secundaria          0.346234\n",
            "tasa_desempleo_juvenil                     0.261754\n",
            "densidad_poblacional                       0.164929\n",
            "gasto_policial_per_capita                 -0.011940\n",
            "inversion_programas_sociales_per_capita   -0.050768\n",
            "ingresos_medios                           -0.284239\n",
            "Name: tasa_asesinatos_por_100mil, dtype: float64\n"
          ]
        }
      ]
    },
    {
      "cell_type": "markdown",
      "source": [
        "**Visualización de las correlaciones**"
      ],
      "metadata": {
        "id": "apkLwDRho5O2"
      }
    },
    {
      "cell_type": "code",
      "source": [
        "plt.figure(figsize=(10, 6))\n",
        "sns.barplot(x=target_correlations.values, y=target_correlations.index, palette=\"viridis\")\n",
        "plt.title('Correlación de las Predictoras con la Tasa de Asesinatos')\n",
        "plt.xlabel('Coeficiente de Correlación (r)')\n",
        "plt.ylabel('Variable Predictora')\n",
        "plt.grid(axis='x', linestyle='--')\n",
        "plt.show()"
      ],
      "metadata": {
        "colab": {
          "base_uri": "https://localhost:8080/",
          "height": 673
        },
        "id": "AyC3e4fao8s-",
        "outputId": "99294f25-e949-4dd1-efd6-91047df9d72c"
      },
      "execution_count": 8,
      "outputs": [
        {
          "output_type": "stream",
          "name": "stderr",
          "text": [
            "/tmp/ipython-input-908738934.py:2: FutureWarning: \n",
            "\n",
            "Passing `palette` without assigning `hue` is deprecated and will be removed in v0.14.0. Assign the `y` variable to `hue` and set `legend=False` for the same effect.\n",
            "\n",
            "  sns.barplot(x=target_correlations.values, y=target_correlations.index, palette=\"viridis\")\n"
          ]
        },
        {
          "output_type": "display_data",
          "data": {
            "text/plain": [
              "<Figure size 1000x600 with 1 Axes>"
            ],
            "image/png": "[encoded data removed]"
          },
          "metadata": {}
        }
      ]
    }
  ]
}