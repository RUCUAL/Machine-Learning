{
  "nbformat": 4,
  "nbformat_minor": 0,
  "metadata": {
    "colab": {
      "provenance": [],
      "authorship_tag": "ABX9TyNP74cnZeg+fVorSJYsD4ZT",
      "include_colab_link": true
    },
    "kernelspec": {
      "name": "python3",
      "display_name": "Python 3"
    },
    "language_info": {
      "name": "python"
    }
  },
  "cells": [
    {
      "cell_type": "markdown",
      "metadata": {
        "id": "view-in-github",
        "colab_type": "text"
      },
      "source": [
        "<a href=\"https://colab.research.google.com/github/RUCUAL/Machine-Learning/blob/main/Unidad02/INTEGRANTES%20DEL%20EQUIPO.ipynb\" target=\"_parent\"><img src=\"https://colab.research.google.com/assets/colab-badge.svg\" alt=\"Open In Colab\"/></a>"
      ]
    },
    {
      "cell_type": "markdown",
      "source": [
        "#**Unidad 2**\n",
        "##**Facilitador:** Dr. José Gabriel Rodríguez Rivas\n",
        "##**Alumnos:** Rubén Cuevas Aldava / Manuel Rodriguez Pulido"
      ],
      "metadata": {
        "id": "pMUpG4iZN-yh"
      }
    }
  ]
}